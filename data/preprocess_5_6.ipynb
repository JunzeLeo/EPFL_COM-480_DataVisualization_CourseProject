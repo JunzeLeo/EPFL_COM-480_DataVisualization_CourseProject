{
 "cells": [
  {
   "cell_type": "code",
   "execution_count": 2,
   "metadata": {},
   "outputs": [],
   "source": [
    "import numpy as np\n",
    "import pandas as pd\n",
    "import matplotlib.pyplot as plt"
   ]
  },
  {
   "cell_type": "markdown",
   "metadata": {},
   "source": [
    "## deforestation"
   ]
  },
  {
   "cell_type": "code",
   "execution_count": 105,
   "metadata": {},
   "outputs": [
    {
     "data": {
      "text/html": [
       "<div>\n",
       "<style scoped>\n",
       "    .dataframe tbody tr th:only-of-type {\n",
       "        vertical-align: middle;\n",
       "    }\n",
       "\n",
       "    .dataframe tbody tr th {\n",
       "        vertical-align: top;\n",
       "    }\n",
       "\n",
       "    .dataframe thead th {\n",
       "        text-align: right;\n",
       "    }\n",
       "</style>\n",
       "<table border=\"1\" class=\"dataframe\">\n",
       "  <thead>\n",
       "    <tr style=\"text-align: right;\">\n",
       "      <th></th>\n",
       "      <th>Domain</th>\n",
       "      <th>Area</th>\n",
       "      <th>Element</th>\n",
       "      <th>Item</th>\n",
       "      <th>Year</th>\n",
       "      <th>Unit</th>\n",
       "      <th>Value</th>\n",
       "    </tr>\n",
       "  </thead>\n",
       "  <tbody>\n",
       "    <tr>\n",
       "      <th>0</th>\n",
       "      <td>Forest Land</td>\n",
       "      <td>Afghanistan</td>\n",
       "      <td>Area</td>\n",
       "      <td>Forest land</td>\n",
       "      <td>1990</td>\n",
       "      <td>1000 ha</td>\n",
       "      <td>1350.0</td>\n",
       "    </tr>\n",
       "    <tr>\n",
       "      <th>1</th>\n",
       "      <td>Forest Land</td>\n",
       "      <td>Afghanistan</td>\n",
       "      <td>Area</td>\n",
       "      <td>Forest land</td>\n",
       "      <td>1991</td>\n",
       "      <td>1000 ha</td>\n",
       "      <td>1350.0</td>\n",
       "    </tr>\n",
       "    <tr>\n",
       "      <th>2</th>\n",
       "      <td>Forest Land</td>\n",
       "      <td>Afghanistan</td>\n",
       "      <td>Area</td>\n",
       "      <td>Forest land</td>\n",
       "      <td>1992</td>\n",
       "      <td>1000 ha</td>\n",
       "      <td>1350.0</td>\n",
       "    </tr>\n",
       "    <tr>\n",
       "      <th>3</th>\n",
       "      <td>Forest Land</td>\n",
       "      <td>Afghanistan</td>\n",
       "      <td>Area</td>\n",
       "      <td>Forest land</td>\n",
       "      <td>1993</td>\n",
       "      <td>1000 ha</td>\n",
       "      <td>1350.0</td>\n",
       "    </tr>\n",
       "    <tr>\n",
       "      <th>4</th>\n",
       "      <td>Forest Land</td>\n",
       "      <td>Afghanistan</td>\n",
       "      <td>Area</td>\n",
       "      <td>Forest land</td>\n",
       "      <td>1994</td>\n",
       "      <td>1000 ha</td>\n",
       "      <td>1350.0</td>\n",
       "    </tr>\n",
       "  </tbody>\n",
       "</table>\n",
       "</div>"
      ],
      "text/plain": [
       "        Domain         Area Element         Item  Year     Unit   Value\n",
       "0  Forest Land  Afghanistan    Area  Forest land  1990  1000 ha  1350.0\n",
       "1  Forest Land  Afghanistan    Area  Forest land  1991  1000 ha  1350.0\n",
       "2  Forest Land  Afghanistan    Area  Forest land  1992  1000 ha  1350.0\n",
       "3  Forest Land  Afghanistan    Area  Forest land  1993  1000 ha  1350.0\n",
       "4  Forest Land  Afghanistan    Area  Forest land  1994  1000 ha  1350.0"
      ]
     },
     "execution_count": 105,
     "metadata": {},
     "output_type": "execute_result"
    }
   ],
   "source": [
    "forest = pd.read_csv('data/raw_forest.csv')\n",
    "forest.drop(columns= ['Domain Code'], inplace=True)\n",
    "forest.drop(columns= ['Area Code'], inplace=True)\n",
    "forest.drop(columns= ['Element Code'], inplace=True)\n",
    "forest.drop(columns= ['Item Code'], inplace=True)\n",
    "forest.drop(columns= ['Year Code'], inplace=True)\n",
    "forest.drop(columns= ['Flag', 'Flag Description'], inplace=True)\n",
    "forest.to_csv('data/forest.csv')\n",
    "forest.head()"
   ]
  },
  {
   "cell_type": "code",
   "execution_count": 106,
   "metadata": {},
   "outputs": [
    {
     "name": "stdout",
     "output_type": "stream",
     "text": [
      "number of rows in total: 50562\n",
      "\n",
      "Area (contries): 237 in total\n",
      "Element: ['Area' 'Implied emission factor for CO2'\n",
      " 'Net emissions/removals (CO2) (Forest land)'\n",
      " 'Net emissions/removal (CO2eq) (Forest land)']\n",
      "Items: ['Forest land' 'Net Forest conversion']\n",
      "Year: 1990 till 2017\n",
      "Unit: ['1000 ha' 'tonnes CO2/ha' 'gigagrams']\n"
     ]
    }
   ],
   "source": [
    "print(f'number of rows in total: {forest.shape[0]}\\n')\n",
    "print(f\"Area (contries): {forest['Area'].unique().size} in total\")\n",
    "print(f\"Element: {forest['Element'].unique()}\")\n",
    "print(f\"Items: {forest['Item'].unique()}\")\n",
    "print(f\"Year: {min(forest['Year'].unique())} till {max(forest['Year'].unique())}\")\n",
    "print(f\"Unit: {forest['Unit'].unique()}\")"
   ]
  },
  {
   "cell_type": "code",
   "execution_count": 108,
   "metadata": {},
   "outputs": [
    {
     "data": {
      "image/png": "[encoded data removed]",
      "text/plain": [
       "<Figure size 432x288 with 1 Axes>"
      ]
     },
     "metadata": {
      "needs_background": "light"
     },
     "output_type": "display_data"
    }
   ],
   "source": [
    "brazil = forest[forest['Area'] == \"Brazil\"]\n",
    "area = brazil[brazil[\"Element\"] == 'Area']\n",
    "values = area[area['Item'] == 'Forest land'].Value.values\n",
    "values = values/1000\n",
    "years = area[area['Item'] == 'Forest land'].Year.values\n",
    "plt.plot(years, values)\n",
    "plt.xlabel(\"year\")\n",
    "plt.ylabel(\"forest area (*10^6 ha)\")\n",
    "plt.title(\"Brazil forest area evolution\")\n",
    "plt.savefig(\"data/Brazil_forest\")"
   ]
  },
  {
   "cell_type": "markdown",
   "metadata": {},
   "source": [
    "## Species"
   ]
  },
  {
   "cell_type": "code",
   "execution_count": 119,
   "metadata": {},
   "outputs": [
    {
     "data": {
      "text/html": [
       "<div>\n",
       "<style scoped>\n",
       "    .dataframe tbody tr th:only-of-type {\n",
       "        vertical-align: middle;\n",
       "    }\n",
       "\n",
       "    .dataframe tbody tr th {\n",
       "        vertical-align: top;\n",
       "    }\n",
       "\n",
       "    .dataframe thead th {\n",
       "        text-align: right;\n",
       "    }\n",
       "</style>\n",
       "<table border=\"1\" class=\"dataframe\">\n",
       "  <thead>\n",
       "    <tr style=\"text-align: right;\">\n",
       "      <th></th>\n",
       "      <th>Category</th>\n",
       "      <th>Class</th>\n",
       "      <th>Country</th>\n",
       "      <th>Unit</th>\n",
       "      <th>Value</th>\n",
       "    </tr>\n",
       "  </thead>\n",
       "  <tbody>\n",
       "    <tr>\n",
       "      <th>0</th>\n",
       "      <td>Total number of known species</td>\n",
       "      <td>Mammals</td>\n",
       "      <td>Australia</td>\n",
       "      <td>Number</td>\n",
       "      <td>374.0</td>\n",
       "    </tr>\n",
       "    <tr>\n",
       "      <th>1</th>\n",
       "      <td>Total number of indigenous known species</td>\n",
       "      <td>Mammals</td>\n",
       "      <td>Australia</td>\n",
       "      <td>Number</td>\n",
       "      <td>348.0</td>\n",
       "    </tr>\n",
       "    <tr>\n",
       "      <th>2</th>\n",
       "      <td>Number of endangered species</td>\n",
       "      <td>Mammals</td>\n",
       "      <td>Australia</td>\n",
       "      <td>Number</td>\n",
       "      <td>37.0</td>\n",
       "    </tr>\n",
       "    <tr>\n",
       "      <th>3</th>\n",
       "      <td>Number of critically endangered species</td>\n",
       "      <td>Mammals</td>\n",
       "      <td>Australia</td>\n",
       "      <td>Number</td>\n",
       "      <td>10.0</td>\n",
       "    </tr>\n",
       "    <tr>\n",
       "      <th>4</th>\n",
       "      <td>Number of vulnerable species</td>\n",
       "      <td>Mammals</td>\n",
       "      <td>Australia</td>\n",
       "      <td>Number</td>\n",
       "      <td>60.0</td>\n",
       "    </tr>\n",
       "  </tbody>\n",
       "</table>\n",
       "</div>"
      ],
      "text/plain": [
       "                                   Category    Class    Country    Unit  Value\n",
       "0             Total number of known species  Mammals  Australia  Number  374.0\n",
       "1  Total number of indigenous known species  Mammals  Australia  Number  348.0\n",
       "2              Number of endangered species  Mammals  Australia  Number   37.0\n",
       "3   Number of critically endangered species  Mammals  Australia  Number   10.0\n",
       "4              Number of vulnerable species  Mammals  Australia  Number   60.0"
      ]
     },
     "execution_count": 119,
     "metadata": {},
     "output_type": "execute_result"
    }
   ],
   "source": [
    "species = pd.read_csv('data/raw_species.csv')\n",
    "species.drop(columns= ['IUCN', \"SPEC\", \"COU\", \"Unit Code\", 'PowerCode Code', 'PowerCode', 'Reference Period', \n",
    "                       'Flag Codes', \"Flags\", 'Reference Period Code'], inplace=True)\n",
    "species.rename(columns={\"IUCN Category\": \"Category\", \"Species\": \"Class\"}, inplace=True)\n",
    "species.to_csv('data/species.csv')\n",
    "species[:5]"
   ]
  },
  {
   "cell_type": "code",
   "execution_count": 120,
   "metadata": {},
   "outputs": [
    {
     "data": {
      "text/plain": [
       "array(['Total number of known species',\n",
       "       'Total number of indigenous known species',\n",
       "       'Number of endangered species',\n",
       "       'Number of critically endangered species',\n",
       "       'Number of vulnerable species',\n",
       "       'Total number of threatened species',\n",
       "       'Number of endangered indigenous species',\n",
       "       'Number of critically endangered indigenous species',\n",
       "       'Number of vulnerable indigenous species',\n",
       "       'Threatened species as % of known species',\n",
       "       'Total number of indigenous threatened species',\n",
       "       'Threatened indigenous species as % of indigenous spec.'],\n",
       "      dtype=object)"
      ]
     },
     "execution_count": 120,
     "metadata": {},
     "output_type": "execute_result"
    }
   ],
   "source": [
    "species.Category.unique()"
   ]
  },
  {
   "cell_type": "code",
   "execution_count": 121,
   "metadata": {},
   "outputs": [
    {
     "name": "stdout",
     "output_type": "stream",
     "text": [
      "Number of Classes: 11\n",
      "Number of Countries: 40\n",
      "Units: ['Number' 'Percentage']\n"
     ]
    }
   ],
   "source": [
    "print(f'Number of Classes: {species.Class.unique().size}')\n",
    "print(f'Number of Countries: {species.Country.unique().size}')\n",
    "print(f'Units: {species.Unit.unique()}')"
   ]
  },
  {
   "cell_type": "code",
   "execution_count": null,
   "metadata": {},
   "outputs": [],
   "source": []
  }
 ],
 "metadata": {
  "kernelspec": {
   "display_name": "Python 3",
   "language": "python",
   "name": "python3"
  },
  "language_info": {
   "codemirror_mode": {
    "name": "ipython",
    "version": 3
   },
   "file_extension": ".py",
   "mimetype": "text/x-python",
   "name": "python",
   "nbconvert_exporter": "python",
   "pygments_lexer": "ipython3",
   "version": "3.7.3"
  }
 },
 "nbformat": 4,
 "nbformat_minor": 2
}
